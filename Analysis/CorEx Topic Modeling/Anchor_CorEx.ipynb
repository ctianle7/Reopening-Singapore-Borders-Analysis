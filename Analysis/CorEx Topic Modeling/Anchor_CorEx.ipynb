{
 "cells": [
  {
   "cell_type": "markdown",
   "metadata": {},
   "source": [
    "# Anchored CorEX Topic Modeling (Semi-Supervised)"
   ]
  },
  {
   "cell_type": "code",
   "execution_count": 1,
   "metadata": {},
   "outputs": [],
   "source": [
    "# General packages\n",
    "import pandas as pd\n",
    "\n",
    "# Text Processing\n",
    "import nltk\n",
    "from nltk import word_tokenize\n",
    "import re\n",
    "from sklearn.feature_extraction.text import CountVectorizer\n",
    "\n",
    "# Topic Modelling\n",
    "from corextopic import corextopic as ct\n",
    "\n",
    "# Plots\n",
    "import matplotlib.pyplot as plt"
   ]
  },
  {
   "cell_type": "markdown",
   "metadata": {},
   "source": [
    "### Check for Spam/Duplicate comments"
   ]
  },
  {
   "cell_type": "code",
   "execution_count": 2,
   "metadata": {},
   "outputs": [
    {
     "name": "stdout",
     "output_type": "stream",
     "text": [
      "Total comments is: 7639\n",
      "Unique comments is: 7058\n"
     ]
    }
   ],
   "source": [
    "df = pd.read_csv('../Data/travel_comments.csv')\n",
    "print(f\"Total comments is: {len(df['Comment'])}\")\n",
    "print(f\"Unique comments is: {len(df['Comment'].unique())}\")"
   ]
  },
  {
   "cell_type": "markdown",
   "metadata": {},
   "source": [
    "### Remove Spam/Duplicates rows"
   ]
  },
  {
   "cell_type": "code",
   "execution_count": 3,
   "metadata": {},
   "outputs": [
    {
     "name": "stdout",
     "output_type": "stream",
     "text": [
      "Travel Comments\n",
      "--------------------\n",
      "Before cleaning: 7639\n",
      "After cleaning: 7058\n"
     ]
    }
   ],
   "source": [
    "print('Travel Comments')\n",
    "print('-'*20)\n",
    "print(f\"Before cleaning: {len(df['Comment'])}\")\n",
    "\n",
    "df.drop_duplicates(subset=['Comment'], inplace=True)\n",
    "print(f\"After cleaning: {len(df['Comment'])}\")"
   ]
  },
  {
   "cell_type": "markdown",
   "metadata": {},
   "source": []
  },
  {
   "cell_type": "code",
   "execution_count": 13,
   "metadata": {},
   "outputs": [
    {
     "name": "stdout",
     "output_type": "stream",
     "text": [
      "Travel Comments\n",
      "--------------------\n",
      "Before cleaning: 7058\n",
      "After cleaning: 7058\n"
     ]
    }
   ],
   "source": [
    "print('Travel Comments')\n",
    "print('-'*20)\n",
    "print(f\"Before cleaning: {len(df['Comment'])}\")\n",
    "df.dropna(subset=['Comment'], inplace=True)\n",
    "print(f\"After cleaning: {len(df['Comment'])}\")"
   ]
  },
  {
   "cell_type": "markdown",
   "metadata": {},
   "source": [
    "# Semi-supervised Topic Modeling (CorEx)"
   ]
  },
  {
   "cell_type": "markdown",
   "metadata": {},
   "source": [
    "### Creating the BOW model and all the unique words in the corpus"
   ]
  },
  {
   "cell_type": "code",
   "execution_count": 4,
   "metadata": {},
   "outputs": [
    {
     "data": {
      "text/plain": [
       "64626"
      ]
     },
     "execution_count": 4,
     "metadata": {},
     "output_type": "execute_result"
    }
   ],
   "source": [
    "def get_corex_vectorizer_vocab(df):\n",
    "    comments = []\n",
    "    for row in df['Comment']:\n",
    "        text_tokenize = word_tokenize(row)\n",
    "        text_lower = [w.lower() for w in text_tokenize]\n",
    "        text_words_only = [w for w in text_lower if re.search('^[a-z]+$',w)]\n",
    "        text_drop_2letters = [w for w in text_words_only if len(w) > 2]\n",
    "        text_joined = ' '.join(text_drop_2letters)\n",
    "        comments.append(text_joined)\n",
    "\n",
    "    df['Comment'] = comments\n",
    "\n",
    "    vectorizer = CountVectorizer(ngram_range=(1, 2), stop_words='english')\n",
    "    vectorizer = vectorizer.fit(df['Comment'])\n",
    "    vecs = vectorizer.transform(df['Comment'])\n",
    "    vocab = vectorizer.get_feature_names()\n",
    "\n",
    "    return vecs, vocab\n",
    "\n",
    "vecs, vocab = get_corex_vectorizer_vocab(df=df)\n",
    "len(vocab)"
   ]
  },
  {
   "cell_type": "markdown",
   "metadata": {},
   "source": [
    "### Creating anchor words for CorEx model to guide words to fall into each guided topic"
   ]
  },
  {
   "cell_type": "code",
   "execution_count": 5,
   "metadata": {},
   "outputs": [],
   "source": [
    "anchor_words = [\n",
    "   # Topic 1: GPE\n",
    "   ['singapore', 'malaysia', 'united states', 'india', 'indonesia', 'china', 'germany', 'hong kong', 'united kingdom', 'japan'],\n",
    "\n",
    "   # Topic 2: PERSON\n",
    "   ['rs lin', 'cov fox bbc', 'boba fett', 'allen chua', 'jesus', 'foreign workers', 'peter kroll', 'richard wong', 'lisa lim', 'pm lee'],\n",
    "\n",
    "   # Topic 3: ORG\n",
    "   ['moh', 'lah', 'cnn', 'cdc places', 'channel news asia', 'parliament', 'govt', 'sia', 'vote peoples action party', 'united states'],\n",
    "\n",
    "   # Topic 4: EVENT\n",
    "   ['covid', 'omicron', 'delta', 'social distancing', 'coronavirus', 'wuhan virus', 'safe distancing', 'covid variant', 'safeentry', 'circuit breaker'],\n",
    "   \n",
    "   # Topic 5: NORP\n",
    "   ['singaporeans', 'singaporean', 'johor', 'malaysian', 'chinese', 'indian', 'indonesian', 'european', 'asian', 'african']\n",
    "]"
   ]
  },
  {
   "cell_type": "markdown",
   "metadata": {},
   "source": [
    "### Training the CorEx model"
   ]
  },
  {
   "cell_type": "code",
   "execution_count": 6,
   "metadata": {},
   "outputs": [
    {
     "name": "stdout",
     "output_type": "stream",
     "text": [
      "WARNING: Anchor word not in word column labels provided to CorEx: rs lin\n",
      "WARNING: Anchor word not in word column labels provided to CorEx: cov fox bbc\n",
      "WARNING: Anchor word not in word column labels provided to CorEx: pm lee\n",
      "WARNING: Anchor word not in word column labels provided to CorEx: channel news asia\n",
      "WARNING: Anchor word not in word column labels provided to CorEx: vote peoples action party\n",
      "---Training of CorEx model completed ---\n",
      "Time taken: 127.45120596885681 seconds\n"
     ]
    }
   ],
   "source": [
    "import time\n",
    "start_time = time.time()\n",
    "\n",
    "anchored_topic_model = ct.Corex(n_hidden=5, seed=2)\n",
    "anchored_topic_model.fit(vecs, words=vocab, anchors=anchor_words, anchor_strength=6)\n",
    "\n",
    "print(\"---Training of CorEx model completed ---\")\n",
    "print(\"Time taken: %s seconds\" % (time.time() - start_time))"
   ]
  },
  {
   "cell_type": "markdown",
   "metadata": {},
   "source": [
    "### Getting the top words for each topic"
   ]
  },
  {
   "cell_type": "code",
   "execution_count": 7,
   "metadata": {},
   "outputs": [
    {
     "name": "stdout",
     "output_type": "stream",
     "text": [
      "Topic #1: singapore, malaysia, united states, india, germany, indonesia, hong kong, united kingdom, japan, china\n",
      "\n",
      "Topic #2: boba fett, allen chua, lisa lim, richard wong, jesus, foreign workers, boba, fett, wong, chua\n",
      "\n",
      "Topic #3: united states, govt, lah, states, united, moh, parliament, cnn, like, pore govt\n",
      "\n",
      "Topic #4: covid, omicron, delta, covid nineteen, nineteen, coronavirus, social distancing, covid cases, cases, safe distancing\n",
      "\n",
      "Topic #5: singaporeans, singaporean, johor, malaysian, chinese, asian, indian, european, african, indonesian\n",
      "\n"
     ]
    }
   ],
   "source": [
    "def print_corex_top_topic_words(model, n_words):\n",
    "    for n in range(n_words):\n",
    "        topic_words,_,_ = zip(*model.get_topics(topic = n))\n",
    "        print('Topic #{}: '.format(n+1) + ', '.join(topic_words))\n",
    "        print()\n",
    "print_corex_top_topic_words(model=anchored_topic_model, n_words=5)"
   ]
  },
  {
   "cell_type": "markdown",
   "metadata": {},
   "source": [
    "### Plot the total correlation plot to check the correlation score for each topic"
   ]
  },
  {
   "cell_type": "code",
   "execution_count": 8,
   "metadata": {},
   "outputs": [
    {
     "data": {
      "text/plain": [
       "Text(0, 0.5, 'Total Correlation (nats)')"
      ]
     },
     "execution_count": 8,
     "metadata": {},
     "output_type": "execute_result"
    },
    {
     "data": {
      "image/png": "[encoded data removed]",
      "text/plain": [
       "<Figure size 720x360 with 1 Axes>"
      ]
     },
     "metadata": {
      "needs_background": "light"
     },
     "output_type": "display_data"
    }
   ],
   "source": [
    "plt.figure(figsize=(10,5))\n",
    "plt.bar(range(anchored_topic_model.tcs.shape[0]), anchored_topic_model.tcs, color='#4e79a7', width=0.5)\n",
    "plt.xlabel('Topic', fontsize=16)\n",
    "plt.ylabel('Total Correlation (nats)', fontsize=16)"
   ]
  },
  {
   "cell_type": "markdown",
   "metadata": {},
   "source": [
    "### Label topics for each comment"
   ]
  },
  {
   "cell_type": "code",
   "execution_count": 9,
   "metadata": {},
   "outputs": [
    {
     "data": {
      "text/html": [
       "<div>\n",
       "<style scoped>\n",
       "    .dataframe tbody tr th:only-of-type {\n",
       "        vertical-align: middle;\n",
       "    }\n",
       "\n",
       "    .dataframe tbody tr th {\n",
       "        vertical-align: top;\n",
       "    }\n",
       "\n",
       "    .dataframe thead th {\n",
       "        text-align: right;\n",
       "    }\n",
       "</style>\n",
       "<table border=\"1\" class=\"dataframe\">\n",
       "  <thead>\n",
       "    <tr style=\"text-align: right;\">\n",
       "      <th></th>\n",
       "      <th>Comment</th>\n",
       "      <th>topic_1</th>\n",
       "      <th>topic_2</th>\n",
       "      <th>topic_3</th>\n",
       "      <th>topic_4</th>\n",
       "      <th>topic_5</th>\n",
       "    </tr>\n",
       "  </thead>\n",
       "  <tbody>\n",
       "    <tr>\n",
       "      <th>0</th>\n",
       "      <td>you have book the pcr test klia before arrival</td>\n",
       "      <td>0.0</td>\n",
       "      <td>0.0</td>\n",
       "      <td>0.0</td>\n",
       "      <td>0.0</td>\n",
       "      <td>0.0</td>\n",
       "    </tr>\n",
       "    <tr>\n",
       "      <th>1</th>\n",
       "      <td>access good information what investors need pr...</td>\n",
       "      <td>0.0</td>\n",
       "      <td>0.0</td>\n",
       "      <td>0.0</td>\n",
       "      <td>0.0</td>\n",
       "      <td>0.0</td>\n",
       "    </tr>\n",
       "    <tr>\n",
       "      <th>2</th>\n",
       "      <td>please include philippines also are super stre...</td>\n",
       "      <td>0.0</td>\n",
       "      <td>0.0</td>\n",
       "      <td>1.0</td>\n",
       "      <td>0.0</td>\n",
       "      <td>0.0</td>\n",
       "    </tr>\n",
       "    <tr>\n",
       "      <th>3</th>\n",
       "      <td>omicron mutated times thats making existing va...</td>\n",
       "      <td>1.0</td>\n",
       "      <td>0.0</td>\n",
       "      <td>1.0</td>\n",
       "      <td>1.0</td>\n",
       "      <td>0.0</td>\n",
       "    </tr>\n",
       "    <tr>\n",
       "      <th>4</th>\n",
       "      <td>they are welcoming omicron into singapore when...</td>\n",
       "      <td>1.0</td>\n",
       "      <td>0.0</td>\n",
       "      <td>0.0</td>\n",
       "      <td>1.0</td>\n",
       "      <td>1.0</td>\n",
       "    </tr>\n",
       "  </tbody>\n",
       "</table>\n",
       "</div>"
      ],
      "text/plain": [
       "                                             Comment  topic_1  topic_2  \\\n",
       "0     you have book the pcr test klia before arrival      0.0      0.0   \n",
       "1  access good information what investors need pr...      0.0      0.0   \n",
       "2  please include philippines also are super stre...      0.0      0.0   \n",
       "3  omicron mutated times thats making existing va...      1.0      0.0   \n",
       "4  they are welcoming omicron into singapore when...      1.0      0.0   \n",
       "\n",
       "   topic_3  topic_4  topic_5  \n",
       "0      0.0      0.0      0.0  \n",
       "1      0.0      0.0      0.0  \n",
       "2      1.0      0.0      0.0  \n",
       "3      1.0      1.0      0.0  \n",
       "4      0.0      1.0      1.0  "
      ]
     },
     "execution_count": 9,
     "metadata": {},
     "output_type": "execute_result"
    }
   ],
   "source": [
    "def corex_label_topics(df, model, vecs, no_topics):\n",
    "    topic_df = pd.DataFrame(model.transform(vecs), columns=[\"topic_{}\".format(i+1) for i in range (no_topics)]).astype(float)\n",
    "    topic_df.index = df.index\n",
    "    df = pd.concat([df, topic_df], axis=1)\n",
    "    return df\n",
    "\n",
    "dominant_topics = corex_label_topics(df=df, model=anchored_topic_model, vecs=vecs, no_topics=5)\n",
    "\n",
    "dominant_topics.head(5)"
   ]
  },
  {
   "cell_type": "code",
   "execution_count": 14,
   "metadata": {},
   "outputs": [
    {
     "name": "stdout",
     "output_type": "stream",
     "text": [
      "Travel Comments\n",
      "--------------------\n",
      "Before cleaning: 7058\n",
      "After cleaning: 7058\n"
     ]
    }
   ],
   "source": [
    "print('Travel Comments')\n",
    "print('-'*20)\n",
    "print(f\"Before cleaning: {len(dominant_topics['Comment'])}\")\n",
    "dominant_topics.dropna(subset=['Comment'], inplace=True)\n",
    "print(f\"After cleaning: {len(dominant_topics['Comment'])}\")"
   ]
  },
  {
   "cell_type": "code",
   "execution_count": 12,
   "metadata": {},
   "outputs": [],
   "source": [
    "dominant_topics.to_csv('Output/travel_topics_topic_labels.csv')"
   ]
  }
 ],
 "metadata": {
  "interpreter": {
   "hash": "6dbe0db13d760ba47f82847e016117217b83b176ce064942a5ea518da708bad0"
  },
  "kernelspec": {
   "display_name": "Python 3.7.3 64-bit (system)",
   "language": "python",
   "name": "python3"
  },
  "language_info": {
   "codemirror_mode": {
    "name": "ipython",
    "version": 3
   },
   "file_extension": ".py",
   "mimetype": "text/x-python",
   "name": "python",
   "nbconvert_exporter": "python",
   "pygments_lexer": "ipython3",
   "version": "3.7.3"
  },
  "orig_nbformat": 4
 },
 "nbformat": 4,
 "nbformat_minor": 2
}
