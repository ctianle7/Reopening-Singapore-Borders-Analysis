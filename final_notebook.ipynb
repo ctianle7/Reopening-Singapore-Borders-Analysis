{
 "cells": [
  {
   "cell_type": "code",
   "execution_count": 2,
   "metadata": {},
   "outputs": [],
   "source": [
    "# General packages\n",
    "import pandas as pd\n",
    "import pickle\n",
    "\n",
    "# Text Processing\n",
    "import nltk\n",
    "from nltk.stem import PorterStemmer\n",
    "from nltk import word_tokenize\n",
    "from nltk.sentiment.vader import SentimentIntensityAnalyzer\n",
    "from textblob import TextBlob\n",
    "import re\n",
    "from sklearn.feature_extraction.text import CountVectorizer\n",
    "\n",
    "# Topic Modelling\n",
    "from corextopic import corextopic as ct\n",
    "\n",
    "# Plots\n",
    "import matplotlib.pyplot as plt"
   ]
  },
  {
   "cell_type": "markdown",
   "metadata": {},
   "source": [
    "### Check for Spam/Duplicate comments"
   ]
  },
  {
   "cell_type": "code",
   "execution_count": 4,
   "metadata": {},
   "outputs": [
    {
     "name": "stdout",
     "output_type": "stream",
     "text": [
      "Total comments is: 7639\n",
      "Unique comments is: 7058\n"
     ]
    }
   ],
   "source": [
    "df = pd.read_csv('Data/travel_comments.csv')\n",
    "print(f\"Total comments is: {len(df['Comment'])}\")\n",
    "print(f\"Unique comments is: {len(df['Comment'].unique())}\")"
   ]
  },
  {
   "cell_type": "markdown",
   "metadata": {},
   "source": [
    "### Remove Spam/Duplicates rows"
   ]
  },
  {
   "cell_type": "code",
   "execution_count": 5,
   "metadata": {},
   "outputs": [
    {
     "name": "stdout",
     "output_type": "stream",
     "text": [
      "Travel Comments\n",
      "--------------------\n",
      "Before cleaning: 7639\n",
      "After cleaning: 7058\n"
     ]
    }
   ],
   "source": [
    "print('Travel Comments')\n",
    "print('-'*20)\n",
    "print(f\"Before cleaning: {len(df['Comment'])}\")\n",
    "\n",
    "df.drop_duplicates(subset=['Comment'], inplace=True)\n",
    "print(f\"After cleaning: {len(df['Comment'])}\")"
   ]
  },
  {
   "cell_type": "markdown",
   "metadata": {},
   "source": [
    "# Semi-supervised Topic Modeling (CorEx)"
   ]
  },
  {
   "cell_type": "markdown",
   "metadata": {},
   "source": [
    "### Creating the BOW model and all the unique words in the corpus"
   ]
  },
  {
   "cell_type": "code",
   "execution_count": 6,
   "metadata": {},
   "outputs": [
    {
     "data": {
      "text/plain": [
       "64626"
      ]
     },
     "execution_count": 6,
     "metadata": {},
     "output_type": "execute_result"
    }
   ],
   "source": [
    "# df = pd.read_csv('travel_comments.csv')\n",
    "\n",
    "def get_corex_vectorizer_vocab(df):\n",
    "    comments = []\n",
    "    for row in df['Comment']:\n",
    "        text_tokenize = word_tokenize(row)\n",
    "        text_lower = [w.lower() for w in text_tokenize]\n",
    "        text_words_only = [w for w in text_lower if re.search('^[a-z]+$',w)]\n",
    "        text_drop_2letters = [w for w in text_words_only if len(w) > 2]\n",
    "        text_joined = ' '.join(text_drop_2letters)\n",
    "        comments.append(text_joined)\n",
    "\n",
    "    df['Comment'] = comments\n",
    "\n",
    "    vectorizer = CountVectorizer(ngram_range=(1, 2), stop_words='english')\n",
    "    vectorizer = vectorizer.fit(df['Comment'])\n",
    "    vecs = vectorizer.transform(df['Comment'])\n",
    "    vocab = vectorizer.get_feature_names()\n",
    "\n",
    "    return vecs, vocab\n",
    "\n",
    "vecs, vocab = get_corex_vectorizer_vocab(df=df)\n",
    "len(vocab)"
   ]
  },
  {
   "cell_type": "markdown",
   "metadata": {},
   "source": [
    "### Creating anchor words for CorEx model to guide words to fall into each guided topic"
   ]
  },
  {
   "cell_type": "code",
   "execution_count": 7,
   "metadata": {},
   "outputs": [],
   "source": [
    "anchor_words = [\n",
    "   # Topic 1: GPE\n",
    "   ['singapore', 'malaysia', 'united states', 'india', 'indonesia', 'china', 'germany', 'hong kong', 'united kingdom', 'japan'],\n",
    "\n",
    "   # Topic 2: PERSON\n",
    "   ['rs lin', 'cov fox bbc', 'boba fett', 'allen chua', 'jesus', 'foreign workers', 'peter kroll', 'richard wong', 'lisa lim', 'pm lee'],\n",
    "\n",
    "   # Topic 3: ORG\n",
    "   ['moh', 'lah', 'cnn', 'cdc places', 'channel news asia', 'parliament', 'govt', 'sia', 'vote peoples action party', 'united states'],\n",
    "\n",
    "   # Topic 4: EVENT\n",
    "   ['covid', 'omicron', 'delta', 'social distancing', 'coronavirus', 'wuhan virus', 'safe distancing', 'covid variant', 'safeentry', 'circuit breaker'],\n",
    "   \n",
    "   # Topic 5: NORP\n",
    "   ['singaporeans', 'singaporean', 'johor', 'malaysian', 'chinese', 'indian', 'indonesian', 'european', 'asian', 'african']\n",
    "]"
   ]
  },
  {
   "cell_type": "markdown",
   "metadata": {},
   "source": [
    "### Training the CorEx model"
   ]
  },
  {
   "cell_type": "code",
   "execution_count": 8,
   "metadata": {},
   "outputs": [
    {
     "name": "stdout",
     "output_type": "stream",
     "text": [
      "WARNING: Anchor word not in word column labels provided to CorEx: rs lin\n",
      "WARNING: Anchor word not in word column labels provided to CorEx: cov fox bbc\n",
      "WARNING: Anchor word not in word column labels provided to CorEx: pm lee\n",
      "WARNING: Anchor word not in word column labels provided to CorEx: channel news asia\n",
      "WARNING: Anchor word not in word column labels provided to CorEx: vote peoples action party\n",
      "---Training of CorEx model completed ---\n",
      "Time taken: 139.0783007144928 seconds\n"
     ]
    }
   ],
   "source": [
    "import time\n",
    "start_time = time.time()\n",
    "\n",
    "anchored_topic_model = ct.Corex(n_hidden=5, seed=2)\n",
    "anchored_topic_model.fit(vecs, words=vocab, anchors=anchor_words, anchor_strength=6)\n",
    "\n",
    "print(\"---Training of CorEx model completed ---\")\n",
    "print(\"Time taken: %s seconds\" % (time.time() - start_time))"
   ]
  },
  {
   "cell_type": "markdown",
   "metadata": {},
   "source": [
    "### Getting the top words for each topic"
   ]
  },
  {
   "cell_type": "code",
   "execution_count": 9,
   "metadata": {},
   "outputs": [
    {
     "name": "stdout",
     "output_type": "stream",
     "text": [
      "Topic #1: singapore, malaysia, united states, india, germany, indonesia, hong kong, united kingdom, japan, china\n",
      "\n",
      "Topic #2: boba fett, allen chua, lisa lim, richard wong, jesus, foreign workers, boba, fett, wong, chua\n",
      "\n",
      "Topic #3: united states, govt, lah, states, united, moh, parliament, cnn, like, pore govt\n",
      "\n",
      "Topic #4: covid, omicron, delta, covid nineteen, nineteen, coronavirus, social distancing, covid cases, cases, safe distancing\n",
      "\n",
      "Topic #5: singaporeans, singaporean, johor, malaysian, chinese, asian, indian, european, african, indonesian\n",
      "\n"
     ]
    }
   ],
   "source": [
    "def print_corex_top_topic_words(model, n_words):\n",
    "    for n in range(n_words):\n",
    "        topic_words,_,_ = zip(*model.get_topics(topic = n))\n",
    "        print('Topic #{}: '.format(n+1) + ', '.join(topic_words))\n",
    "        print()\n",
    "print_corex_top_topic_words(model=anchored_topic_model, n_words=5)"
   ]
  },
  {
   "cell_type": "markdown",
   "metadata": {},
   "source": [
    "### Plot the total correlation plot to check the correlation score for each topic"
   ]
  },
  {
   "cell_type": "code",
   "execution_count": 10,
   "metadata": {},
   "outputs": [
    {
     "data": {
      "text/plain": [
       "Text(0, 0.5, 'Total Correlation (nats)')"
      ]
     },
     "execution_count": 10,
     "metadata": {},
     "output_type": "execute_result"
    },
    {
     "data": {
      "image/png": "[encoded data removed]",
      "text/plain": [
       "<Figure size 720x360 with 1 Axes>"
      ]
     },
     "metadata": {
      "needs_background": "light"
     },
     "output_type": "display_data"
    }
   ],
   "source": [
    "# def plot_corex_total_correlation(model):\n",
    "#     plt.figure(figsize=(10,5))\n",
    "#     plt.bar(range(model.tcs.shape[0]), model.tcs, color='#4e79a7', width=0.5)\n",
    "#     plt.xlabel('Topic', fontsize=16)\n",
    "#     plt.ylabel('Total Correlation (nats)', fontsize=16)\n",
    "# plot_corex_total_correlation(model=anchored_topic_model)\n",
    "plt.figure(figsize=(10,5))\n",
    "plt.bar(range(anchored_topic_model.tcs.shape[0]), anchored_topic_model.tcs, color='#4e79a7', width=0.5)\n",
    "plt.xlabel('Topic', fontsize=16)\n",
    "plt.ylabel('Total Correlation (nats)', fontsize=16)"
   ]
  },
  {
   "cell_type": "markdown",
   "metadata": {},
   "source": [
    "### Label topics for each comment"
   ]
  },
  {
   "cell_type": "code",
   "execution_count": 11,
   "metadata": {},
   "outputs": [
    {
     "data": {
      "text/html": [
       "<div>\n",
       "<style scoped>\n",
       "    .dataframe tbody tr th:only-of-type {\n",
       "        vertical-align: middle;\n",
       "    }\n",
       "\n",
       "    .dataframe tbody tr th {\n",
       "        vertical-align: top;\n",
       "    }\n",
       "\n",
       "    .dataframe thead th {\n",
       "        text-align: right;\n",
       "    }\n",
       "</style>\n",
       "<table border=\"1\" class=\"dataframe\">\n",
       "  <thead>\n",
       "    <tr style=\"text-align: right;\">\n",
       "      <th></th>\n",
       "      <th>Comment</th>\n",
       "      <th>topic_1</th>\n",
       "      <th>topic_2</th>\n",
       "      <th>topic_3</th>\n",
       "      <th>topic_4</th>\n",
       "      <th>topic_5</th>\n",
       "    </tr>\n",
       "  </thead>\n",
       "  <tbody>\n",
       "    <tr>\n",
       "      <th>0</th>\n",
       "      <td>you have book the pcr test klia before arrival</td>\n",
       "      <td>0.0</td>\n",
       "      <td>0.0</td>\n",
       "      <td>0.0</td>\n",
       "      <td>0.0</td>\n",
       "      <td>0.0</td>\n",
       "    </tr>\n",
       "    <tr>\n",
       "      <th>1</th>\n",
       "      <td>access good information what investors need pr...</td>\n",
       "      <td>0.0</td>\n",
       "      <td>0.0</td>\n",
       "      <td>0.0</td>\n",
       "      <td>0.0</td>\n",
       "      <td>0.0</td>\n",
       "    </tr>\n",
       "    <tr>\n",
       "      <th>2</th>\n",
       "      <td>please include philippines also are super stre...</td>\n",
       "      <td>0.0</td>\n",
       "      <td>0.0</td>\n",
       "      <td>1.0</td>\n",
       "      <td>0.0</td>\n",
       "      <td>0.0</td>\n",
       "    </tr>\n",
       "    <tr>\n",
       "      <th>3</th>\n",
       "      <td>omicron mutated times thats making existing va...</td>\n",
       "      <td>1.0</td>\n",
       "      <td>0.0</td>\n",
       "      <td>1.0</td>\n",
       "      <td>1.0</td>\n",
       "      <td>0.0</td>\n",
       "    </tr>\n",
       "    <tr>\n",
       "      <th>4</th>\n",
       "      <td>they are welcoming omicron into singapore when...</td>\n",
       "      <td>1.0</td>\n",
       "      <td>0.0</td>\n",
       "      <td>0.0</td>\n",
       "      <td>1.0</td>\n",
       "      <td>1.0</td>\n",
       "    </tr>\n",
       "  </tbody>\n",
       "</table>\n",
       "</div>"
      ],
      "text/plain": [
       "                                             Comment  topic_1  topic_2  \\\n",
       "0     you have book the pcr test klia before arrival      0.0      0.0   \n",
       "1  access good information what investors need pr...      0.0      0.0   \n",
       "2  please include philippines also are super stre...      0.0      0.0   \n",
       "3  omicron mutated times thats making existing va...      1.0      0.0   \n",
       "4  they are welcoming omicron into singapore when...      1.0      0.0   \n",
       "\n",
       "   topic_3  topic_4  topic_5  \n",
       "0      0.0      0.0      0.0  \n",
       "1      0.0      0.0      0.0  \n",
       "2      1.0      0.0      0.0  \n",
       "3      1.0      1.0      0.0  \n",
       "4      0.0      1.0      1.0  "
      ]
     },
     "execution_count": 11,
     "metadata": {},
     "output_type": "execute_result"
    }
   ],
   "source": [
    "def corex_label_topics(df, model, vecs, no_topics):\n",
    "    topic_df = pd.DataFrame(model.transform(vecs), columns=[\"topic_{}\".format(i+1) for i in range (no_topics)]).astype(float)\n",
    "    topic_df.index = df.index\n",
    "    df = pd.concat([df, topic_df], axis=1)\n",
    "    return df\n",
    "\n",
    "dominant_topics = corex_label_topics(df=df, model=anchored_topic_model, vecs=vecs, no_topics=5)\n",
    "\n",
    "dominant_topics.head(5)"
   ]
  },
  {
   "cell_type": "code",
   "execution_count": 23,
   "metadata": {},
   "outputs": [],
   "source": [
    "# dominant_topics.to_csv('travel_topics_topic_labels.csv')"
   ]
  },
  {
   "cell_type": "markdown",
   "metadata": {},
   "source": [
    "# Sentiment Analysis"
   ]
  },
  {
   "cell_type": "code",
   "execution_count": 12,
   "metadata": {},
   "outputs": [],
   "source": [
    "# Sentiments\n",
    "def get_sentiments(df):\n",
    "    df = vader_sentiment(df)\n",
    "    df = textblob_sentiment(df)\n",
    "    df['final_sentiment'] = df['Vader_compound_score'] + df['tb_polarity']\n",
    "\n",
    "    return df\n",
    "\n",
    "def vader_sentiment(df):\n",
    "    df['Vader_compound_score'] = df['Comment'].apply(lambda x: vader_compound_score(x))\n",
    "    return df\n",
    "\n",
    "def vader_compound_score(x):\n",
    "    vader_analyser = SentimentIntensityAnalyzer()\n",
    "    score = vader_analyser.polarity_scores(x)\n",
    "    return score['compound']\n",
    "\n",
    "def textblob_sentiment(df):\n",
    "    df['tb_polarity'] = df['Comment'].apply(lambda x: TextBlob(x).sentiment.polarity)\n",
    "    df['tb_subjectivity'] = df['Comment'].apply(lambda x: TextBlob(x).sentiment.subjectivity)\n",
    "    return df"
   ]
  },
  {
   "cell_type": "markdown",
   "metadata": {},
   "source": [
    "### Get overview sentiments of comments for all topics"
   ]
  },
  {
   "cell_type": "code",
   "execution_count": 13,
   "metadata": {},
   "outputs": [
    {
     "ename": "KeyboardInterrupt",
     "evalue": "",
     "output_type": "error",
     "traceback": [
      "\u001b[1;31m---------------------------------------------------------------------------\u001b[0m",
      "\u001b[1;31mKeyboardInterrupt\u001b[0m                         Traceback (most recent call last)",
      "\u001b[1;32m<ipython-input-13-1e1791eea73f>\u001b[0m in \u001b[0;36m<module>\u001b[1;34m\u001b[0m\n\u001b[1;32m----> 1\u001b[1;33m \u001b[0mdf_sentiments\u001b[0m \u001b[1;33m=\u001b[0m \u001b[0mget_sentiments\u001b[0m\u001b[1;33m(\u001b[0m\u001b[0mdominant_topics\u001b[0m\u001b[1;33m)\u001b[0m\u001b[1;33m\u001b[0m\u001b[1;33m\u001b[0m\u001b[0m\n\u001b[0m\u001b[0;32m      2\u001b[0m \u001b[0mdf_sentiments\u001b[0m\u001b[1;33m.\u001b[0m\u001b[0mto_csv\u001b[0m\u001b[1;33m(\u001b[0m\u001b[1;34m'travel_topics_sentiment_labels.csv'\u001b[0m\u001b[1;33m)\u001b[0m\u001b[1;33m\u001b[0m\u001b[1;33m\u001b[0m\u001b[0m\n",
      "\u001b[1;32m<ipython-input-12-2593dd04c33d>\u001b[0m in \u001b[0;36mget_sentiments\u001b[1;34m(df)\u001b[0m\n\u001b[0;32m      1\u001b[0m \u001b[1;31m# Sentiments\u001b[0m\u001b[1;33m\u001b[0m\u001b[1;33m\u001b[0m\u001b[1;33m\u001b[0m\u001b[0m\n\u001b[0;32m      2\u001b[0m \u001b[1;32mdef\u001b[0m \u001b[0mget_sentiments\u001b[0m\u001b[1;33m(\u001b[0m\u001b[0mdf\u001b[0m\u001b[1;33m)\u001b[0m\u001b[1;33m:\u001b[0m\u001b[1;33m\u001b[0m\u001b[1;33m\u001b[0m\u001b[0m\n\u001b[1;32m----> 3\u001b[1;33m     \u001b[0mdf\u001b[0m \u001b[1;33m=\u001b[0m \u001b[0mvader_sentiment\u001b[0m\u001b[1;33m(\u001b[0m\u001b[0mdf\u001b[0m\u001b[1;33m)\u001b[0m\u001b[1;33m\u001b[0m\u001b[1;33m\u001b[0m\u001b[0m\n\u001b[0m\u001b[0;32m      4\u001b[0m     \u001b[0mdf\u001b[0m \u001b[1;33m=\u001b[0m \u001b[0mtextblob_sentiment\u001b[0m\u001b[1;33m(\u001b[0m\u001b[0mdf\u001b[0m\u001b[1;33m)\u001b[0m\u001b[1;33m\u001b[0m\u001b[1;33m\u001b[0m\u001b[0m\n\u001b[0;32m      5\u001b[0m     \u001b[0mdf\u001b[0m\u001b[1;33m[\u001b[0m\u001b[1;34m'final_sentiment'\u001b[0m\u001b[1;33m]\u001b[0m \u001b[1;33m=\u001b[0m \u001b[0mdf\u001b[0m\u001b[1;33m[\u001b[0m\u001b[1;34m'Vader_compound_score'\u001b[0m\u001b[1;33m]\u001b[0m \u001b[1;33m+\u001b[0m \u001b[0mdf\u001b[0m\u001b[1;33m[\u001b[0m\u001b[1;34m'tb_polarity'\u001b[0m\u001b[1;33m]\u001b[0m\u001b[1;33m\u001b[0m\u001b[1;33m\u001b[0m\u001b[0m\n",
      "\u001b[1;32m<ipython-input-12-2593dd04c33d>\u001b[0m in \u001b[0;36mvader_sentiment\u001b[1;34m(df)\u001b[0m\n\u001b[0;32m      8\u001b[0m \u001b[1;33m\u001b[0m\u001b[0m\n\u001b[0;32m      9\u001b[0m \u001b[1;32mdef\u001b[0m \u001b[0mvader_sentiment\u001b[0m\u001b[1;33m(\u001b[0m\u001b[0mdf\u001b[0m\u001b[1;33m)\u001b[0m\u001b[1;33m:\u001b[0m\u001b[1;33m\u001b[0m\u001b[1;33m\u001b[0m\u001b[0m\n\u001b[1;32m---> 10\u001b[1;33m     \u001b[0mdf\u001b[0m\u001b[1;33m[\u001b[0m\u001b[1;34m'Vader_compound_score'\u001b[0m\u001b[1;33m]\u001b[0m \u001b[1;33m=\u001b[0m \u001b[0mdf\u001b[0m\u001b[1;33m[\u001b[0m\u001b[1;34m'Comment'\u001b[0m\u001b[1;33m]\u001b[0m\u001b[1;33m.\u001b[0m\u001b[0mapply\u001b[0m\u001b[1;33m(\u001b[0m\u001b[1;32mlambda\u001b[0m \u001b[0mx\u001b[0m\u001b[1;33m:\u001b[0m \u001b[0mvader_compound_score\u001b[0m\u001b[1;33m(\u001b[0m\u001b[0mx\u001b[0m\u001b[1;33m)\u001b[0m\u001b[1;33m)\u001b[0m\u001b[1;33m\u001b[0m\u001b[1;33m\u001b[0m\u001b[0m\n\u001b[0m\u001b[0;32m     11\u001b[0m     \u001b[1;32mreturn\u001b[0m \u001b[0mdf\u001b[0m\u001b[1;33m\u001b[0m\u001b[1;33m\u001b[0m\u001b[0m\n\u001b[0;32m     12\u001b[0m \u001b[1;33m\u001b[0m\u001b[0m\n",
      "\u001b[1;32m~\\Anaconda3\\lib\\site-packages\\pandas\\core\\series.py\u001b[0m in \u001b[0;36mapply\u001b[1;34m(self, func, convert_dtype, args, **kwds)\u001b[0m\n\u001b[0;32m   4136\u001b[0m             \u001b[1;32melse\u001b[0m\u001b[1;33m:\u001b[0m\u001b[1;33m\u001b[0m\u001b[1;33m\u001b[0m\u001b[0m\n\u001b[0;32m   4137\u001b[0m                 \u001b[0mvalues\u001b[0m \u001b[1;33m=\u001b[0m \u001b[0mself\u001b[0m\u001b[1;33m.\u001b[0m\u001b[0mastype\u001b[0m\u001b[1;33m(\u001b[0m\u001b[0mobject\u001b[0m\u001b[1;33m)\u001b[0m\u001b[1;33m.\u001b[0m\u001b[0m_values\u001b[0m\u001b[1;33m\u001b[0m\u001b[1;33m\u001b[0m\u001b[0m\n\u001b[1;32m-> 4138\u001b[1;33m                 \u001b[0mmapped\u001b[0m \u001b[1;33m=\u001b[0m \u001b[0mlib\u001b[0m\u001b[1;33m.\u001b[0m\u001b[0mmap_infer\u001b[0m\u001b[1;33m(\u001b[0m\u001b[0mvalues\u001b[0m\u001b[1;33m,\u001b[0m \u001b[0mf\u001b[0m\u001b[1;33m,\u001b[0m \u001b[0mconvert\u001b[0m\u001b[1;33m=\u001b[0m\u001b[0mconvert_dtype\u001b[0m\u001b[1;33m)\u001b[0m\u001b[1;33m\u001b[0m\u001b[1;33m\u001b[0m\u001b[0m\n\u001b[0m\u001b[0;32m   4139\u001b[0m \u001b[1;33m\u001b[0m\u001b[0m\n\u001b[0;32m   4140\u001b[0m         \u001b[1;32mif\u001b[0m \u001b[0mlen\u001b[0m\u001b[1;33m(\u001b[0m\u001b[0mmapped\u001b[0m\u001b[1;33m)\u001b[0m \u001b[1;32mand\u001b[0m \u001b[0misinstance\u001b[0m\u001b[1;33m(\u001b[0m\u001b[0mmapped\u001b[0m\u001b[1;33m[\u001b[0m\u001b[1;36m0\u001b[0m\u001b[1;33m]\u001b[0m\u001b[1;33m,\u001b[0m \u001b[0mSeries\u001b[0m\u001b[1;33m)\u001b[0m\u001b[1;33m:\u001b[0m\u001b[1;33m\u001b[0m\u001b[1;33m\u001b[0m\u001b[0m\n",
      "\u001b[1;32mpandas\\_libs\\lib.pyx\u001b[0m in \u001b[0;36mpandas._libs.lib.map_infer\u001b[1;34m()\u001b[0m\n",
      "\u001b[1;32m<ipython-input-12-2593dd04c33d>\u001b[0m in \u001b[0;36m<lambda>\u001b[1;34m(x)\u001b[0m\n\u001b[0;32m      8\u001b[0m \u001b[1;33m\u001b[0m\u001b[0m\n\u001b[0;32m      9\u001b[0m \u001b[1;32mdef\u001b[0m \u001b[0mvader_sentiment\u001b[0m\u001b[1;33m(\u001b[0m\u001b[0mdf\u001b[0m\u001b[1;33m)\u001b[0m\u001b[1;33m:\u001b[0m\u001b[1;33m\u001b[0m\u001b[1;33m\u001b[0m\u001b[0m\n\u001b[1;32m---> 10\u001b[1;33m     \u001b[0mdf\u001b[0m\u001b[1;33m[\u001b[0m\u001b[1;34m'Vader_compound_score'\u001b[0m\u001b[1;33m]\u001b[0m \u001b[1;33m=\u001b[0m \u001b[0mdf\u001b[0m\u001b[1;33m[\u001b[0m\u001b[1;34m'Comment'\u001b[0m\u001b[1;33m]\u001b[0m\u001b[1;33m.\u001b[0m\u001b[0mapply\u001b[0m\u001b[1;33m(\u001b[0m\u001b[1;32mlambda\u001b[0m \u001b[0mx\u001b[0m\u001b[1;33m:\u001b[0m \u001b[0mvader_compound_score\u001b[0m\u001b[1;33m(\u001b[0m\u001b[0mx\u001b[0m\u001b[1;33m)\u001b[0m\u001b[1;33m)\u001b[0m\u001b[1;33m\u001b[0m\u001b[1;33m\u001b[0m\u001b[0m\n\u001b[0m\u001b[0;32m     11\u001b[0m     \u001b[1;32mreturn\u001b[0m \u001b[0mdf\u001b[0m\u001b[1;33m\u001b[0m\u001b[1;33m\u001b[0m\u001b[0m\n\u001b[0;32m     12\u001b[0m \u001b[1;33m\u001b[0m\u001b[0m\n",
      "\u001b[1;32m<ipython-input-12-2593dd04c33d>\u001b[0m in \u001b[0;36mvader_compound_score\u001b[1;34m(x)\u001b[0m\n\u001b[0;32m     12\u001b[0m \u001b[1;33m\u001b[0m\u001b[0m\n\u001b[0;32m     13\u001b[0m \u001b[1;32mdef\u001b[0m \u001b[0mvader_compound_score\u001b[0m\u001b[1;33m(\u001b[0m\u001b[0mx\u001b[0m\u001b[1;33m)\u001b[0m\u001b[1;33m:\u001b[0m\u001b[1;33m\u001b[0m\u001b[1;33m\u001b[0m\u001b[0m\n\u001b[1;32m---> 14\u001b[1;33m     \u001b[0mvader_analyser\u001b[0m \u001b[1;33m=\u001b[0m \u001b[0mSentimentIntensityAnalyzer\u001b[0m\u001b[1;33m(\u001b[0m\u001b[1;33m)\u001b[0m\u001b[1;33m\u001b[0m\u001b[1;33m\u001b[0m\u001b[0m\n\u001b[0m\u001b[0;32m     15\u001b[0m     \u001b[0mscore\u001b[0m \u001b[1;33m=\u001b[0m \u001b[0mvader_analyser\u001b[0m\u001b[1;33m.\u001b[0m\u001b[0mpolarity_scores\u001b[0m\u001b[1;33m(\u001b[0m\u001b[0mx\u001b[0m\u001b[1;33m)\u001b[0m\u001b[1;33m\u001b[0m\u001b[1;33m\u001b[0m\u001b[0m\n\u001b[0;32m     16\u001b[0m     \u001b[1;32mreturn\u001b[0m \u001b[0mscore\u001b[0m\u001b[1;33m[\u001b[0m\u001b[1;34m'compound'\u001b[0m\u001b[1;33m]\u001b[0m\u001b[1;33m\u001b[0m\u001b[1;33m\u001b[0m\u001b[0m\n",
      "\u001b[1;32m~\\Anaconda3\\lib\\site-packages\\nltk\\sentiment\\vader.py\u001b[0m in \u001b[0;36m__init__\u001b[1;34m(self, lexicon_file)\u001b[0m\n\u001b[0;32m    333\u001b[0m     ):\n\u001b[0;32m    334\u001b[0m         \u001b[0mself\u001b[0m\u001b[1;33m.\u001b[0m\u001b[0mlexicon_file\u001b[0m \u001b[1;33m=\u001b[0m \u001b[0mnltk\u001b[0m\u001b[1;33m.\u001b[0m\u001b[0mdata\u001b[0m\u001b[1;33m.\u001b[0m\u001b[0mload\u001b[0m\u001b[1;33m(\u001b[0m\u001b[0mlexicon_file\u001b[0m\u001b[1;33m)\u001b[0m\u001b[1;33m\u001b[0m\u001b[1;33m\u001b[0m\u001b[0m\n\u001b[1;32m--> 335\u001b[1;33m         \u001b[0mself\u001b[0m\u001b[1;33m.\u001b[0m\u001b[0mlexicon\u001b[0m \u001b[1;33m=\u001b[0m \u001b[0mself\u001b[0m\u001b[1;33m.\u001b[0m\u001b[0mmake_lex_dict\u001b[0m\u001b[1;33m(\u001b[0m\u001b[1;33m)\u001b[0m\u001b[1;33m\u001b[0m\u001b[1;33m\u001b[0m\u001b[0m\n\u001b[0m\u001b[0;32m    336\u001b[0m \u001b[1;33m\u001b[0m\u001b[0m\n\u001b[0;32m    337\u001b[0m     \u001b[1;32mdef\u001b[0m \u001b[0mmake_lex_dict\u001b[0m\u001b[1;33m(\u001b[0m\u001b[0mself\u001b[0m\u001b[1;33m)\u001b[0m\u001b[1;33m:\u001b[0m\u001b[1;33m\u001b[0m\u001b[1;33m\u001b[0m\u001b[0m\n",
      "\u001b[1;32m~\\Anaconda3\\lib\\site-packages\\nltk\\sentiment\\vader.py\u001b[0m in \u001b[0;36mmake_lex_dict\u001b[1;34m(self)\u001b[0m\n\u001b[0;32m    342\u001b[0m         \u001b[1;32mfor\u001b[0m \u001b[0mline\u001b[0m \u001b[1;32min\u001b[0m \u001b[0mself\u001b[0m\u001b[1;33m.\u001b[0m\u001b[0mlexicon_file\u001b[0m\u001b[1;33m.\u001b[0m\u001b[0msplit\u001b[0m\u001b[1;33m(\u001b[0m\u001b[1;34m'\\n'\u001b[0m\u001b[1;33m)\u001b[0m\u001b[1;33m:\u001b[0m\u001b[1;33m\u001b[0m\u001b[1;33m\u001b[0m\u001b[0m\n\u001b[0;32m    343\u001b[0m             \u001b[1;33m(\u001b[0m\u001b[0mword\u001b[0m\u001b[1;33m,\u001b[0m \u001b[0mmeasure\u001b[0m\u001b[1;33m)\u001b[0m \u001b[1;33m=\u001b[0m \u001b[0mline\u001b[0m\u001b[1;33m.\u001b[0m\u001b[0mstrip\u001b[0m\u001b[1;33m(\u001b[0m\u001b[1;33m)\u001b[0m\u001b[1;33m.\u001b[0m\u001b[0msplit\u001b[0m\u001b[1;33m(\u001b[0m\u001b[1;34m'\\t'\u001b[0m\u001b[1;33m)\u001b[0m\u001b[1;33m[\u001b[0m\u001b[1;36m0\u001b[0m\u001b[1;33m:\u001b[0m\u001b[1;36m2\u001b[0m\u001b[1;33m]\u001b[0m\u001b[1;33m\u001b[0m\u001b[1;33m\u001b[0m\u001b[0m\n\u001b[1;32m--> 344\u001b[1;33m             \u001b[0mlex_dict\u001b[0m\u001b[1;33m[\u001b[0m\u001b[0mword\u001b[0m\u001b[1;33m]\u001b[0m \u001b[1;33m=\u001b[0m \u001b[0mfloat\u001b[0m\u001b[1;33m(\u001b[0m\u001b[0mmeasure\u001b[0m\u001b[1;33m)\u001b[0m\u001b[1;33m\u001b[0m\u001b[1;33m\u001b[0m\u001b[0m\n\u001b[0m\u001b[0;32m    345\u001b[0m         \u001b[1;32mreturn\u001b[0m \u001b[0mlex_dict\u001b[0m\u001b[1;33m\u001b[0m\u001b[1;33m\u001b[0m\u001b[0m\n\u001b[0;32m    346\u001b[0m \u001b[1;33m\u001b[0m\u001b[0m\n",
      "\u001b[1;31mKeyboardInterrupt\u001b[0m: "
     ]
    }
   ],
   "source": [
    "df_sentiments = get_sentiments(dominant_topics)\n",
    "# df_sentiments.to_csv('travel_topics_sentiment_labels.csv')"
   ]
  },
  {
   "cell_type": "code",
   "execution_count": 14,
   "metadata": {},
   "outputs": [],
   "source": [
    "def get_num_comments_sentiments_by_topic(topics_df, topic):\n",
    "    df = topics_df[topics_df[f'topic_{topic}'] == 1.0].reset_index()\n",
    "\n",
    "    df_sentiments = get_sentiments(df)\n",
    "\n",
    "    df_sentiments_pos = df_sentiments[df_sentiments['final_sentiment'] > 0]\n",
    "    df_sentiments_neu = df_sentiments[df_sentiments['final_sentiment'] == 0]\n",
    "    df_sentiments_neg = df_sentiments[df_sentiments['final_sentiment'] < 0]\n",
    "    \n",
    "    print(f\"There are {len(df_sentiments_pos)} positive comments regarding topic {topic}.\")\n",
    "    print(f\"There are {len(df_sentiments_neu)} neutral comments regarding topic {topic}.\")\n",
    "    print(f\"There are {len(df_sentiments_neg)} negative comments regarding topic {topic}.\\n\")"
   ]
  },
  {
   "cell_type": "code",
   "execution_count": 15,
   "metadata": {},
   "outputs": [
    {
     "name": "stdout",
     "output_type": "stream",
     "text": [
      "There are 1229 positive comments regarding topic 1.\n",
      "There are 231 neutral comments regarding topic 1.\n",
      "There are 607 negative comments regarding topic 1.\n",
      "\n",
      "There are 677 positive comments regarding topic 2.\n",
      "There are 71 neutral comments regarding topic 2.\n",
      "There are 413 negative comments regarding topic 2.\n",
      "\n",
      "There are 723 positive comments regarding topic 3.\n",
      "There are 50 neutral comments regarding topic 3.\n",
      "There are 413 negative comments regarding topic 3.\n",
      "\n",
      "There are 733 positive comments regarding topic 4.\n",
      "There are 86 neutral comments regarding topic 4.\n",
      "There are 488 negative comments regarding topic 4.\n",
      "\n",
      "There are 716 positive comments regarding topic 5.\n",
      "There are 80 neutral comments regarding topic 5.\n",
      "There are 426 negative comments regarding topic 5.\n",
      "\n"
     ]
    }
   ],
   "source": [
    "get_num_comments_sentiments_by_topic(topics_df=dominant_topics, topic=1)\n",
    "get_num_comments_sentiments_by_topic(topics_df=dominant_topics, topic=2)\n",
    "get_num_comments_sentiments_by_topic(topics_df=dominant_topics, topic=3)\n",
    "get_num_comments_sentiments_by_topic(topics_df=dominant_topics, topic=4)\n",
    "get_num_comments_sentiments_by_topic(topics_df=dominant_topics, topic=5)"
   ]
  },
  {
   "cell_type": "markdown",
   "metadata": {},
   "source": [
    "### Get top positive/neutral/negative comments under a topic"
   ]
  },
  {
   "cell_type": "code",
   "execution_count": 16,
   "metadata": {},
   "outputs": [],
   "source": [
    "def get_corex_top_positive_comments(topics_df, topic, n):\n",
    "    df = topics_df[topics_df[f'topic_{topic}'] == 1.0].reset_index()\n",
    "\n",
    "    df_sentiments = get_sentiments(df)\n",
    "\n",
    "    df_sentiments_pos = df_sentiments[df_sentiments['final_sentiment'] > 0]\n",
    "    # df_sentiments_pos.to_csv('df_sentiments_pos_topic_2.csv')\n",
    "\n",
    "    print(f\"There are {len(df_sentiments_pos)} positive comments regarding topic {topic}. {round(len(df_sentiments_pos)/len(df_sentiments), 2) * 100} % of the comments are positive for this topic.\\n\\n\")\n",
    "    \n",
    "    positive_comments = df_sentiments_pos.sort_values(by='final_sentiment', ascending=False)['Comment'].to_list()\n",
    "\n",
    "    print_top_comments(positive_comments, n)\n",
    "\n",
    "def get_corex_neutral_comments(topics_df, topic, n):\n",
    "    df = topics_df[topics_df[f'topic_{topic}'] == 1.0].reset_index()\n",
    "\n",
    "    df_sentiments = get_sentiments(df)\n",
    "\n",
    "\n",
    "    df_sentiments_neu = df_sentiments[df_sentiments['final_sentiment'] == 0]\n",
    "    # df_sentiments_neu_2.to_csv('df_sentiments_neu_topic_2.csv')\n",
    "\n",
    "    print(f\"There are {len(df_sentiments_neu)} neutral comments regarding topic {topic}. {round(len(df_sentiments_neu)/len(df_sentiments), 2) * 100} % of the comments are neutral for this topic.\\n\\n\")\n",
    "    \n",
    "    comments = df_sentiments_neu['Comment'].sample(n=n).to_list()\n",
    "\n",
    "    print_comments(comments, n)\n",
    "\n",
    "def get_corex_top_negative_comments(topics_df, topic, n):\n",
    "    df = topics_df[topics_df[f'topic_{topic}'] == 1.0].reset_index()\n",
    "\n",
    "    df_sentiments = get_sentiments(df)\n",
    "\n",
    "    df_sentiments_neg = df_sentiments[df_sentiments['final_sentiment'] < 0]\n",
    "    print(f\"There are {len(df_sentiments_neg)} negative comments regarding topic {topic}. {round(len(df_sentiments_neg)/len(df_sentiments), 2) * 100} % of the comments are negative for this topic.\\n\\n\")\n",
    "    \n",
    "    # comments = df_sentiments_neg['Comment'].sample(n=n).to_list()\n",
    "    negative_comments = df_sentiments_neg.sort_values(by='final_sentiment', ascending=True)['Comment'].to_list()\n",
    "\n",
    "    print_top_comments(negative_comments, n)\n",
    "\n",
    "def print_top_comments(comments, n):\n",
    "    for i in range(n):\n",
    "        print(f'Rank {i+1} comment:')\n",
    "        print(f'{comments[i]}')\n",
    "        print()\n",
    "\n",
    "def print_comments(comments, n):\n",
    "    for i in range(n):\n",
    "        print(f'Comment {i+1}')\n",
    "        print(f'{comments[i]}')\n",
    "        print()"
   ]
  },
  {
   "cell_type": "markdown",
   "metadata": {},
   "source": [
    "##### Topic 1"
   ]
  },
  {
   "cell_type": "code",
   "execution_count": 42,
   "metadata": {},
   "outputs": [
    {
     "name": "stdout",
     "output_type": "stream",
     "text": [
      "There are 1229 positive comments regarding topic 1. 59.0 % of the comments are positive for this topic.\n",
      "\n",
      "\n",
      "Rank 1 comment:\n",
      "the best thing that has ever happened united states allows united states wfh\n",
      "\n",
      "Rank 2 comment:\n",
      "mohd countries like congo indonesia philippines and malaysia who are corrupted are invited they got best democracy even united states where got riots the capitol building and donald trump can talk abt democracy\n",
      "\n",
      "Rank 3 comment:\n",
      "eight continues can cme here spread but got chance spread sounds fair singapore ministers fucxxx fuxx off don talk please tell united states something make united states happy\n",
      "\n",
      "Rank 4 comment:\n",
      "mark zuckerbird like someone bought umbrella but they need united states buy one protect them from the rain lol\n",
      "\n",
      "Rank 5 comment:\n",
      "thailand please can not eat all the delicious and cheap thai foods and see all their beautiful women lol\n",
      "\n"
     ]
    }
   ],
   "source": [
    "# positive comments for Topic 1\n",
    "get_corex_top_positive_comments(topics_df=dominant_topics, topic=1, n=5)"
   ]
  },
  {
   "cell_type": "code",
   "execution_count": 43,
   "metadata": {},
   "outputs": [
    {
     "name": "stdout",
     "output_type": "stream",
     "text": [
      "There are 231 neutral comments regarding topic 1. 11.0 % of the comments are neutral for this topic.\n",
      "\n",
      "\n",
      "Comment 1\n",
      "monka eternal mine not valid singapore also got cases are also bringing cases over pcr tests dun work\n",
      "\n",
      "Comment 2\n",
      "not ask singapore ask the destination country\n",
      "\n",
      "Comment 3\n",
      "maybe you should move taiwan china\n",
      "\n",
      "Comment 4\n",
      "can take boat train malaysia need vaccinated travel lane\n",
      "\n",
      "Comment 5\n",
      "what about india\n",
      "\n"
     ]
    }
   ],
   "source": [
    "# neutral comments for Topic 1\n",
    "get_corex_neutral_comments(topics_df=dominant_topics, topic=1, n=5)"
   ]
  },
  {
   "cell_type": "code",
   "execution_count": 44,
   "metadata": {},
   "outputs": [
    {
     "name": "stdout",
     "output_type": "stream",
     "text": [
      "There are 607 negative comments regarding topic 1. 28.999999999999996 % of the comments are negative for this topic.\n",
      "\n",
      "\n",
      "Rank 1 comment:\n",
      "andylau google reporters without borders just deleted malaysia posts again one linked another explanation google contemptible and disgusting shitty paper\n",
      "\n",
      "Rank 2 comment:\n",
      "pap trying earn money and does not care about united states getting covid nineteen become sick die earning money out our misery and the corpse covid nineteen death absolutely inhumane\n",
      "\n",
      "Rank 3 comment:\n",
      "then why allow vaccinated travel lane into singapore all affected are coming singapore aggravate the situation disgusting\n",
      "\n",
      "Rank 4 comment:\n",
      "lin nothing with singapore how about germany then they are too having worst outbreak pandemic eversince vaccinated travel lane with singapore coincidence\n",
      "\n",
      "Rank 5 comment:\n",
      "schadenfreude that insulting singapore education system\n",
      "\n"
     ]
    }
   ],
   "source": [
    "# negative comments for Topic 1\n",
    "get_corex_top_negative_comments(topics_df=dominant_topics, topic=1, n=5)"
   ]
  },
  {
   "cell_type": "markdown",
   "metadata": {},
   "source": [
    "##### Topic 4"
   ]
  },
  {
   "cell_type": "code",
   "execution_count": 31,
   "metadata": {},
   "outputs": [
    {
     "name": "stdout",
     "output_type": "stream",
     "text": [
      "There are 733 positive comments regarding topic 4. 56.00000000000001 % of the comments are positive for this topic.\n",
      "\n",
      "\n",
      "Rank 1 comment:\n",
      "avijeet well tell that the doctor who presented his work and lab studies the covid gop conference the guy has been working covid since sars unbiaised has one the best credentials with regards this virus\n",
      "\n",
      "Rank 2 comment:\n",
      "angmo boss very happy more rrt thought won hope contract covid lorry soon\n",
      "\n",
      "Rank 3 comment:\n",
      "slumps perfect one hundred ranking covid recovery index source nikkei asia five nov\n",
      "\n",
      "Rank 4 comment:\n",
      "peter mish agree with you covid nineteen taught united states the importance having plan good all believe all can relate this\n",
      "\n",
      "Rank 5 comment:\n",
      "love singapore but not take medicines and injections and stay home but know the maks not anything but will wear one keep from getting fined malaysia groceries were delivered malaysia home before the call pandemic moved queretaro mexico eleven two two thousand and where safe beautiful and clean like singapore\n",
      "\n"
     ]
    }
   ],
   "source": [
    "# positive comments for Topic 4\n",
    "get_corex_top_positive_comments(topics_df=dominant_topics, topic=4, n=5)"
   ]
  },
  {
   "cell_type": "code",
   "execution_count": 32,
   "metadata": {},
   "outputs": [
    {
     "name": "stdout",
     "output_type": "stream",
     "text": [
      "There are 86 neutral comments regarding topic 4. 7.000000000000001 % of the comments are neutral for this topic.\n",
      "\n",
      "\n",
      "Comment 1\n",
      "omicron coming faster than getting the data\n",
      "\n",
      "Comment 2\n",
      "when this when everyone has contracted covid\n",
      "\n",
      "Comment 3\n",
      "what the daily infection rate pore from fourteen feb nineteen feb two thousand and\n",
      "\n",
      "Comment 4\n",
      "what happens when different countries have different definitions fully vaccinated you end the day still vaccinated travel lane but only another shape and form\n",
      "\n",
      "Comment 5\n",
      "onky living with covid ever changing restrictions\n",
      "\n"
     ]
    }
   ],
   "source": [
    "# neutral comments for Topic 4\n",
    "get_corex_neutral_comments(topics_df=dominant_topics, topic=4, n=5)"
   ]
  },
  {
   "cell_type": "code",
   "execution_count": 15,
   "metadata": {},
   "outputs": [
    {
     "name": "stdout",
     "output_type": "stream",
     "text": [
      "There are 488 negative comments regarding topic 4. 37.0 % of the comments are negative for this topic.\n",
      "\n",
      "\n",
      "Rank 1 comment:\n",
      "andylau google reporters without borders just deleted malaysia posts again one linked another explanation google contemptible and disgusting shitty paper\n",
      "\n",
      "Rank 2 comment:\n",
      "pap trying earn money and does not care about united states getting covid nineteen become sick die earning money out our misery and the corpse covid nineteen death absolutely inhumane\n",
      "\n",
      "Rank 3 comment:\n",
      "hate covid hate covid hate covid hate covid hate covid\n",
      "\n",
      "Rank 4 comment:\n",
      "dislike comment section because has been infected with dangerous virus worst than covid\n",
      "\n",
      "Rank 5 comment:\n",
      "expect covid cases get worst\n",
      "\n"
     ]
    }
   ],
   "source": [
    "# negative comments for Topic 4\n",
    "get_corex_top_negative_comments(topics_df=dominant_topics, topic=4, n=5)"
   ]
  },
  {
   "cell_type": "markdown",
   "metadata": {},
   "source": [
    "# Emotion Analysis"
   ]
  },
  {
   "cell_type": "markdown",
   "metadata": {},
   "source": [
    "### Label emotions for each comment"
   ]
  },
  {
   "cell_type": "code",
   "execution_count": 17,
   "metadata": {},
   "outputs": [],
   "source": [
    "def preprocess_and_tokenize(data):    \n",
    "\n",
    "    #remove html markup\n",
    "    data = re.sub(\"(<.*?>)\", \"\", data)\n",
    "\n",
    "    #remove urls\n",
    "    data = re.sub(r'http\\S+', '', data)\n",
    "    \n",
    "    #remove hashtags and @names\n",
    "    data= re.sub(r\"(#[\\d\\w\\.]+)\", '', data)\n",
    "    data= re.sub(r\"(@[\\d\\w\\.]+)\", '', data)\n",
    "\n",
    "    #remove punctuation and non-ascii digits\n",
    "    data = re.sub(\"(\\\\W|\\\\d)\", \" \", data)\n",
    "    \n",
    "    #remove whitespace\n",
    "    data = data.strip()\n",
    "    \n",
    "    # tokenization with nltk\n",
    "    data = word_tokenize(data)\n",
    "    \n",
    "    # stemming with nltk\n",
    "    porter = PorterStemmer()\n",
    "    stem_data = [porter.stem(word) for word in data]\n",
    "        \n",
    "    return stem_data"
   ]
  },
  {
   "cell_type": "code",
   "execution_count": 18,
   "metadata": {},
   "outputs": [
    {
     "name": "stderr",
     "output_type": "stream",
     "text": [
      "C:\\Users\\tl_ch\\Anaconda3\\lib\\site-packages\\sklearn\\base.py:318: UserWarning: Trying to unpickle estimator TfidfTransformer from version 0.23.2 when using version 0.22.1. This might lead to breaking code or invalid results. Use at your own risk.\n",
      "  UserWarning)\n",
      "C:\\Users\\tl_ch\\Anaconda3\\lib\\site-packages\\sklearn\\base.py:318: UserWarning: Trying to unpickle estimator TfidfVectorizer from version 0.23.2 when using version 0.22.1. This might lead to breaking code or invalid results. Use at your own risk.\n",
      "  UserWarning)\n",
      "C:\\Users\\tl_ch\\Anaconda3\\lib\\site-packages\\sklearn\\base.py:318: UserWarning: Trying to unpickle estimator LinearSVC from version 0.23.2 when using version 0.22.1. This might lead to breaking code or invalid results. Use at your own risk.\n",
      "  UserWarning)\n",
      "C:\\Users\\tl_ch\\Anaconda3\\lib\\site-packages\\sklearn\\base.py:318: UserWarning: Trying to unpickle estimator Pipeline from version 0.23.2 when using version 0.22.1. This might lead to breaking code or invalid results. Use at your own risk.\n",
      "  UserWarning)\n"
     ]
    },
    {
     "data": {
      "text/html": [
       "<div>\n",
       "<style scoped>\n",
       "    .dataframe tbody tr th:only-of-type {\n",
       "        vertical-align: middle;\n",
       "    }\n",
       "\n",
       "    .dataframe tbody tr th {\n",
       "        vertical-align: top;\n",
       "    }\n",
       "\n",
       "    .dataframe thead th {\n",
       "        text-align: right;\n",
       "    }\n",
       "</style>\n",
       "<table border=\"1\" class=\"dataframe\">\n",
       "  <thead>\n",
       "    <tr style=\"text-align: right;\">\n",
       "      <th></th>\n",
       "      <th>Comment</th>\n",
       "      <th>topic_1</th>\n",
       "      <th>topic_2</th>\n",
       "      <th>topic_3</th>\n",
       "      <th>topic_4</th>\n",
       "      <th>topic_5</th>\n",
       "      <th>Emotion</th>\n",
       "    </tr>\n",
       "  </thead>\n",
       "  <tbody>\n",
       "    <tr>\n",
       "      <th>0</th>\n",
       "      <td>you have book the pcr test klia before arrival</td>\n",
       "      <td>0.0</td>\n",
       "      <td>0.0</td>\n",
       "      <td>0.0</td>\n",
       "      <td>0.0</td>\n",
       "      <td>0.0</td>\n",
       "      <td>[fear]</td>\n",
       "    </tr>\n",
       "    <tr>\n",
       "      <th>1</th>\n",
       "      <td>access good information what investors need pr...</td>\n",
       "      <td>0.0</td>\n",
       "      <td>0.0</td>\n",
       "      <td>0.0</td>\n",
       "      <td>0.0</td>\n",
       "      <td>0.0</td>\n",
       "      <td>[neutral]</td>\n",
       "    </tr>\n",
       "    <tr>\n",
       "      <th>2</th>\n",
       "      <td>please include philippines also are super stre...</td>\n",
       "      <td>0.0</td>\n",
       "      <td>0.0</td>\n",
       "      <td>1.0</td>\n",
       "      <td>0.0</td>\n",
       "      <td>0.0</td>\n",
       "      <td>[joy]</td>\n",
       "    </tr>\n",
       "    <tr>\n",
       "      <th>3</th>\n",
       "      <td>omicron mutated times thats making existing va...</td>\n",
       "      <td>1.0</td>\n",
       "      <td>0.0</td>\n",
       "      <td>1.0</td>\n",
       "      <td>1.0</td>\n",
       "      <td>0.0</td>\n",
       "      <td>[fear]</td>\n",
       "    </tr>\n",
       "    <tr>\n",
       "      <th>4</th>\n",
       "      <td>they are welcoming omicron into singapore when...</td>\n",
       "      <td>1.0</td>\n",
       "      <td>0.0</td>\n",
       "      <td>0.0</td>\n",
       "      <td>1.0</td>\n",
       "      <td>1.0</td>\n",
       "      <td>[anger]</td>\n",
       "    </tr>\n",
       "  </tbody>\n",
       "</table>\n",
       "</div>"
      ],
      "text/plain": [
       "                                             Comment  topic_1  topic_2  \\\n",
       "0     you have book the pcr test klia before arrival      0.0      0.0   \n",
       "1  access good information what investors need pr...      0.0      0.0   \n",
       "2  please include philippines also are super stre...      0.0      0.0   \n",
       "3  omicron mutated times thats making existing va...      1.0      0.0   \n",
       "4  they are welcoming omicron into singapore when...      1.0      0.0   \n",
       "\n",
       "   topic_3  topic_4  topic_5    Emotion  \n",
       "0      0.0      0.0      0.0     [fear]  \n",
       "1      0.0      0.0      0.0  [neutral]  \n",
       "2      1.0      0.0      0.0      [joy]  \n",
       "3      1.0      1.0      0.0     [fear]  \n",
       "4      0.0      1.0      1.0    [anger]  "
      ]
     },
     "execution_count": 18,
     "metadata": {},
     "output_type": "execute_result"
    }
   ],
   "source": [
    "def emotions(df):\n",
    "    emotions_clf = pickle.load(open('Data/tfidf_svm.sav', 'rb'))\n",
    "    df['Emotion'] = df['Comment'].apply(lambda x: emotions_clf.predict([x]))\n",
    "    return df\n",
    "\n",
    "df_emot = emotions(dominant_topics)\n",
    "df_emot.head(5)"
   ]
  },
  {
   "cell_type": "markdown",
   "metadata": {},
   "source": [
    "### Get overview emotions of comments for all topics"
   ]
  },
  {
   "cell_type": "code",
   "execution_count": 38,
   "metadata": {},
   "outputs": [],
   "source": [
    "def get_num_comments_by_emotions_by_topic(topics_df, topic):\n",
    "    df = topics_df[topics_df[f'topic_{topic}'] == 1.0].reset_index()\n",
    "\n",
    "    comments_joy = df[df['Emotion'] == 'joy'].reset_index()\n",
    "    comments_sad = df[df['Emotion'] == 'sadness'].reset_index()\n",
    "    comments_anger = df[df['Emotion'] == 'anger'].reset_index()\n",
    "    comments_neu = df[df['Emotion'] == 'neutral'].reset_index()\n",
    "    comments_fear = df[df['Emotion'] == 'fear'].reset_index()\n",
    "\n",
    "    print(f\"There are {len(comments_joy)} joy comments regarding topic {topic}.\")\n",
    "    print(f\"There are {len(comments_sad)} sadness comments regarding topic {topic}.\")\n",
    "    print(f\"There are {len(comments_anger)} anger comments regarding topic {topic}.\")\n",
    "    print(f\"There are {len(comments_neu)} neutral comments regarding topic {topic}.\")\n",
    "    print(f\"There are {len(comments_fear)} fear comments regarding topic {topic}.\\n\")"
   ]
  },
  {
   "cell_type": "code",
   "execution_count": 39,
   "metadata": {},
   "outputs": [
    {
     "name": "stdout",
     "output_type": "stream",
     "text": [
      "There are 230 joy comments regarding topic 1.\n",
      "There are 245 sadness comments regarding topic 1.\n",
      "There are 260 anger comments regarding topic 1.\n",
      "There are 946 neutral comments regarding topic 1.\n",
      "There are 386 fear comments regarding topic 1.\n",
      "\n",
      "There are 151 joy comments regarding topic 2.\n",
      "There are 162 sadness comments regarding topic 2.\n",
      "There are 206 anger comments regarding topic 2.\n",
      "There are 358 neutral comments regarding topic 2.\n",
      "There are 284 fear comments regarding topic 2.\n",
      "\n",
      "There are 165 joy comments regarding topic 3.\n",
      "There are 148 sadness comments regarding topic 3.\n",
      "There are 178 anger comments regarding topic 3.\n",
      "There are 464 neutral comments regarding topic 3.\n",
      "There are 231 fear comments regarding topic 3.\n",
      "\n",
      "There are 161 joy comments regarding topic 4.\n",
      "There are 174 sadness comments regarding topic 4.\n",
      "There are 219 anger comments regarding topic 4.\n",
      "There are 448 neutral comments regarding topic 4.\n",
      "There are 305 fear comments regarding topic 4.\n",
      "\n",
      "There are 143 joy comments regarding topic 5.\n",
      "There are 162 sadness comments regarding topic 5.\n",
      "There are 213 anger comments regarding topic 5.\n",
      "There are 466 neutral comments regarding topic 5.\n",
      "There are 238 fear comments regarding topic 5.\n",
      "\n"
     ]
    }
   ],
   "source": [
    "get_num_comments_by_emotions_by_topic(topics_df=df_emot, topic=1)\n",
    "get_num_comments_by_emotions_by_topic(topics_df=df_emot, topic=2)\n",
    "get_num_comments_by_emotions_by_topic(topics_df=df_emot, topic=3)\n",
    "get_num_comments_by_emotions_by_topic(topics_df=df_emot, topic=4)\n",
    "get_num_comments_by_emotions_by_topic(topics_df=df_emot, topic=5)"
   ]
  },
  {
   "cell_type": "markdown",
   "metadata": {},
   "source": [
    "### Get top comments by emotions"
   ]
  },
  {
   "cell_type": "code",
   "execution_count": 19,
   "metadata": {},
   "outputs": [],
   "source": [
    "def get_top_comments_by_emotions(df, emotion, n):\n",
    "    df_sentiments = get_sentiments(df)\n",
    "\n",
    "    comments_emotion = df_sentiments[df_sentiments['Emotion'] == emotion].reset_index()\n",
    "\n",
    "    if emotion == 'joy':\n",
    "        comments = comments_emotion.sort_values(by='final_sentiment', ascending=False)['Comment'].to_list()\n",
    "    else:\n",
    "        comments = comments_emotion.sort_values(by='final_sentiment', ascending=True)['Comment'].to_list()\n",
    "    \n",
    "\n",
    "    print_top_comments(comments, n)\n",
    "\n",
    "def get_corex_top_comments_by_emotions(topics_df, topic, emotion, n):\n",
    "    df = topics_df[topics_df[f'topic_{topic}'] == 1.0].reset_index()\n",
    "    \n",
    "    df_sentiments = get_sentiments(df)\n",
    "\n",
    "    comments_emotion = df_sentiments[df_sentiments['Emotion'] == emotion].reset_index()\n",
    "\n",
    "    if emotion == 'joy':\n",
    "        comments = comments_emotion.sort_values(by='final_sentiment', ascending=False)['Comment'].to_list()\n",
    "    else:\n",
    "        comments = comments_emotion.sort_values(by='final_sentiment', ascending=True)['Comment'].to_list()\n",
    "    \n",
    "\n",
    "    print_top_comments(comments, n)"
   ]
  },
  {
   "cell_type": "code",
   "execution_count": 21,
   "metadata": {},
   "outputs": [
    {
     "name": "stdout",
     "output_type": "stream",
     "text": [
      "Rank 1 comment:\n",
      "avijeet well tell that the doctor who presented his work and lab studies the covid gop conference the guy has been working covid since sars unbiaised has one the best credentials with regards this virus\n",
      "\n",
      "Rank 2 comment:\n",
      "mohd countries like congo indonesia philippines and malaysia who are corrupted are invited they got best democracy even united states where got riots the capitol building and donald trump can talk abt democracy\n",
      "\n",
      "Rank 3 comment:\n",
      "eight continues can cme here spread but got chance spread sounds fair singapore ministers fucxxx fuxx off don talk please tell united states something make united states happy\n",
      "\n",
      "Rank 4 comment:\n",
      "mark zuckerbird like someone bought umbrella but they need united states buy one protect them from the rain lol\n",
      "\n",
      "Rank 5 comment:\n",
      "hope can visit batam soon beautiful adventure and looking forward\n",
      "\n"
     ]
    }
   ],
   "source": [
    "get_top_comments_by_emotions(df=df_emot, emotion='joy', n=5)"
   ]
  },
  {
   "cell_type": "code",
   "execution_count": 20,
   "metadata": {},
   "outputs": [
    {
     "name": "stdout",
     "output_type": "stream",
     "text": [
      "Rank 1 comment:\n",
      "pap trying earn money and does not care about united states getting covid nineteen become sick die earning money out our misery and the corpse covid nineteen death absolutely inhumane\n",
      "\n",
      "Rank 2 comment:\n",
      "such cold hearted measure for seniors who are not vaccinated they fell shall will regardless covid infection they might hesitate see doctor for the concern medical cost here you are suggesting them suffer and die alone home the worst case you regard them suicidal and neglect them\n",
      "\n",
      "Rank 3 comment:\n",
      "wrong the person died with omicron not omicron you need see past the word games they play the person was elderly cancer patient\n",
      "\n",
      "Rank 4 comment:\n",
      "only stupid people believe that living with covid nineteen can work live with covid nineteen means everyone will infected covid nineteen and get sick even die and have long term implication\n",
      "\n",
      "Rank 5 comment:\n",
      "hide malaysia test paper from malaysia mom when fail the test that one know lazy\n",
      "\n"
     ]
    }
   ],
   "source": [
    "get_corex_top_comments_by_emotions(topics_df=df_emot, topic=4, emotion='sadness', n=5)"
   ]
  },
  {
   "cell_type": "code",
   "execution_count": 21,
   "metadata": {},
   "outputs": [
    {
     "name": "stdout",
     "output_type": "stream",
     "text": [
      "Rank 1 comment:\n",
      "dislike comment section because has been infected with dangerous virus worst than covid\n",
      "\n",
      "Rank 2 comment:\n",
      "fiost the worst yet come and will made covid nineteen look like walk the park\n",
      "\n",
      "Rank 3 comment:\n",
      "rubarani yes but knowing the virus existed and gathering the thousands plain irresponsible what even worse knowing you have mysterious variant and still have the audacity travel out the country and spread the misery everywhere\n",
      "\n",
      "Rank 4 comment:\n",
      "english worst than covid nineteen impact\n",
      "\n",
      "Rank 5 comment:\n",
      "over fifty zero breakthrough cases sick covid arizona alone but\n",
      "\n"
     ]
    }
   ],
   "source": [
    "get_corex_top_comments_by_emotions(topics_df=df_emot, topic=4, emotion='fear', n=5)"
   ]
  },
  {
   "cell_type": "code",
   "execution_count": 23,
   "metadata": {},
   "outputs": [
    {
     "name": "stdout",
     "output_type": "stream",
     "text": [
      "Rank 1 comment:\n",
      "avijeet well tell that the doctor who presented his work and lab studies the covid gop conference the guy has been working covid since sars unbiaised has one the best credentials with regards this virus\n",
      "\n",
      "Rank 2 comment:\n",
      "angmo boss very happy more rrt thought won hope contract covid lorry soon\n",
      "\n",
      "Rank 3 comment:\n",
      "peter mish agree with you covid nineteen taught united states the importance having plan good all believe all can relate this\n",
      "\n",
      "Rank 4 comment:\n",
      "now the spike protein has been improved and made one hundred more lethal knowing that the virus was never isolated and thus lab manufactured welcome covid two zero upgraded version\n",
      "\n",
      "Rank 5 comment:\n",
      "singapore welcome omicron would like sincerely welcome you our country here you are exempted from any taxes and are free roam you get what mean hope you enjoy your stay\n",
      "\n"
     ]
    }
   ],
   "source": [
    "get_corex_top_comments_by_emotions(topics_df=df_emot, topic=4, emotion='joy', n=5)"
   ]
  },
  {
   "cell_type": "code",
   "execution_count": 24,
   "metadata": {},
   "outputs": [
    {
     "name": "stdout",
     "output_type": "stream",
     "text": [
      "Rank 1 comment:\n",
      "andylau google reporters without borders just deleted malaysia posts again one linked another explanation google contemptible and disgusting shitty paper\n",
      "\n",
      "Rank 2 comment:\n",
      "hate covid hate covid hate covid hate covid hate covid\n",
      "\n",
      "Rank 3 comment:\n",
      "demonthatgotlordkeith you are totally lame why don you just come out and say you are anti vaccine anti mask and anti lockdown during the pandemic your are being cowardly that what your talking about just say\n",
      "\n",
      "Rank 4 comment:\n",
      "don hate covid understand that the virus not responsible for making everyone suffer\n",
      "\n",
      "Rank 5 comment:\n",
      "cases yesterday and yet today simplify rules for travelers open doors for covid nineteen come stupid repeat the mistake stupid believing peoples action party stupidest\n",
      "\n"
     ]
    }
   ],
   "source": [
    "get_corex_top_comments_by_emotions(topics_df=df_emot, topic=4, emotion='anger', n=5)"
   ]
  },
  {
   "cell_type": "code",
   "execution_count": null,
   "metadata": {},
   "outputs": [],
   "source": []
  },
  {
   "cell_type": "code",
   "execution_count": null,
   "metadata": {},
   "outputs": [],
   "source": []
  },
  {
   "cell_type": "code",
   "execution_count": 27,
   "metadata": {},
   "outputs": [
    {
     "name": "stdout",
     "output_type": "stream",
     "text": [
      "There are 2067 positive comments regarding topic 1.\n",
      "There are 1161 positive comments regarding topic 2.\n",
      "There are 1186 positive comments regarding topic 3.\n",
      "There are 1307 positive comments regarding topic 4.\n",
      "There are 1222 positive comments regarding topic 5.\n"
     ]
    }
   ],
   "source": [
    "def get_num_comments_by_topic(topics_df, topic):\n",
    "    df = topics_df[topics_df[f'topic_{topic}'] == 1.0].reset_index()\n",
    "    print(f\"There are {len(df)} positive comments regarding topic {topic}.\")\n",
    "\n",
    "get_num_comments_by_topic(topics_df=dominant_topics, topic=1)\n",
    "get_num_comments_by_topic(topics_df=dominant_topics, topic=2)\n",
    "get_num_comments_by_topic(topics_df=dominant_topics, topic=3)\n",
    "get_num_comments_by_topic(topics_df=dominant_topics, topic=4)\n",
    "get_num_comments_by_topic(topics_df=dominant_topics, topic=5)"
   ]
  },
  {
   "cell_type": "code",
   "execution_count": 30,
   "metadata": {},
   "outputs": [
    {
     "name": "stdout",
     "output_type": "stream",
     "text": [
      "There are 1229 positive comments regarding topic 1.\n",
      "There are 607 negative comments regarding topic 1.\n",
      "There are 231 neutral comments regarding topic 1.\n",
      "\n",
      "There are 677 positive comments regarding topic 2.\n",
      "There are 413 negative comments regarding topic 2.\n",
      "There are 71 neutral comments regarding topic 2.\n",
      "\n",
      "There are 723 positive comments regarding topic 3.\n",
      "There are 413 negative comments regarding topic 3.\n",
      "There are 50 neutral comments regarding topic 3.\n",
      "\n",
      "There are 733 positive comments regarding topic 4.\n",
      "There are 488 negative comments regarding topic 4.\n",
      "There are 86 neutral comments regarding topic 4.\n",
      "\n",
      "There are 716 positive comments regarding topic 5.\n",
      "There are 426 negative comments regarding topic 5.\n",
      "There are 80 neutral comments regarding topic 5.\n",
      "\n"
     ]
    }
   ],
   "source": [
    "def get_num_positive_comments_by_topic(topics_df, topic):\n",
    "    df = topics_df[topics_df[f'topic_{topic}'] == 1.0].reset_index()\n",
    "\n",
    "    df_sentiments = get_sentiments(df)\n",
    "\n",
    "    df_sentiments_pos = df_sentiments[df_sentiments['final_sentiment'] > 0]\n",
    "\n",
    "    print(f\"There are {len(df_sentiments_pos)} positive comments regarding topic {topic}.\")\n",
    "\n",
    "def get_num_negative_comments_by_topic(topics_df, topic):\n",
    "    df = topics_df[topics_df[f'topic_{topic}'] == 1.0].reset_index()\n",
    "\n",
    "    df_sentiments = get_sentiments(df)\n",
    "\n",
    "    df_sentiments_pos = df_sentiments[df_sentiments['final_sentiment'] < 0]\n",
    "\n",
    "    print(f\"There are {len(df_sentiments_pos)} negative comments regarding topic {topic}.\")\n",
    "\n",
    "def get_num_neutral_comments_by_topic(topics_df, topic):\n",
    "    df = topics_df[topics_df[f'topic_{topic}'] == 1.0].reset_index()\n",
    "\n",
    "    df_sentiments = get_sentiments(df)\n",
    "\n",
    "    df_sentiments_pos = df_sentiments[df_sentiments['final_sentiment'] == 0]\n",
    "\n",
    "    print(f\"There are {len(df_sentiments_pos)} neutral comments regarding topic {topic}.\\n\")\n",
    "\n",
    "get_num_positive_comments_by_topic(topics_df=dominant_topics, topic=1)\n",
    "get_num_negative_comments_by_topic(topics_df=dominant_topics, topic=1)\n",
    "get_num_neutral_comments_by_topic(topics_df=dominant_topics, topic=1)\n",
    "\n",
    "get_num_positive_comments_by_topic(topics_df=dominant_topics, topic=2)\n",
    "get_num_negative_comments_by_topic(topics_df=dominant_topics, topic=2)\n",
    "get_num_neutral_comments_by_topic(topics_df=dominant_topics, topic=2)\n",
    "\n",
    "get_num_positive_comments_by_topic(topics_df=dominant_topics, topic=3)\n",
    "get_num_negative_comments_by_topic(topics_df=dominant_topics, topic=3)\n",
    "get_num_neutral_comments_by_topic(topics_df=dominant_topics, topic=3)\n",
    "\n",
    "get_num_positive_comments_by_topic(topics_df=dominant_topics, topic=4)\n",
    "get_num_negative_comments_by_topic(topics_df=dominant_topics, topic=4)\n",
    "get_num_neutral_comments_by_topic(topics_df=dominant_topics, topic=4)\n",
    "\n",
    "get_num_positive_comments_by_topic(topics_df=dominant_topics, topic=5)\n",
    "get_num_negative_comments_by_topic(topics_df=dominant_topics, topic=5)\n",
    "get_num_neutral_comments_by_topic(topics_df=dominant_topics, topic=5)\n"
   ]
  },
  {
   "cell_type": "code",
   "execution_count": 32,
   "metadata": {},
   "outputs": [
    {
     "name": "stdout",
     "output_type": "stream",
     "text": [
      "There are 230 joy comments regarding topic 1.\n",
      "There are 245 sadness comments regarding topic 1.\n",
      "There are 260 anger comments regarding topic 1.\n",
      "There are 946 neutral comments regarding topic 1.\n",
      "There are 386 fear comments regarding topic 1.\n",
      "\n",
      "There are 151 joy comments regarding topic 2.\n",
      "There are 162 sadness comments regarding topic 2.\n",
      "There are 206 anger comments regarding topic 2.\n",
      "There are 358 neutral comments regarding topic 2.\n",
      "There are 284 fear comments regarding topic 2.\n"
     ]
    }
   ],
   "source": [
    "def get_num_comments_by_emotions_by_topic(topics_df, topic, emotion):\n",
    "    df = topics_df[topics_df[f'topic_{topic}'] == 1.0].reset_index()\n",
    "\n",
    "    comments_emotion = df[df['Emotion'] == emotion].reset_index()\n",
    "    print(f\"There are {len(comments_emotion)} {emotion} comments regarding topic {topic}.\")\n",
    "\n",
    "get_num_comments_by_emotions_by_topic(topics_df=df_emot, topic=1, emotion='joy')\n",
    "get_num_comments_by_emotions_by_topic(topics_df=df_emot, topic=1, emotion='sadness')\n",
    "get_num_comments_by_emotions_by_topic(topics_df=df_emot, topic=1, emotion='anger')\n",
    "get_num_comments_by_emotions_by_topic(topics_df=df_emot, topic=1, emotion='neutral')\n",
    "get_num_comments_by_emotions_by_topic(topics_df=df_emot, topic=1, emotion='fear')\n",
    "print()\n",
    "get_num_comments_by_emotions_by_topic(topics_df=df_emot, topic=2, emotion='joy')\n",
    "get_num_comments_by_emotions_by_topic(topics_df=df_emot, topic=2, emotion='sadness')\n",
    "get_num_comments_by_emotions_by_topic(topics_df=df_emot, topic=2, emotion='anger')\n",
    "get_num_comments_by_emotions_by_topic(topics_df=df_emot, topic=2, emotion='neutral')\n",
    "get_num_comments_by_emotions_by_topic(topics_df=df_emot, topic=2, emotion='fear')"
   ]
  },
  {
   "cell_type": "code",
   "execution_count": 33,
   "metadata": {},
   "outputs": [
    {
     "name": "stdout",
     "output_type": "stream",
     "text": [
      "There are 165 joy comments regarding topic 3.\n",
      "There are 148 sadness comments regarding topic 3.\n",
      "There are 178 anger comments regarding topic 3.\n",
      "There are 464 neutral comments regarding topic 3.\n",
      "There are 231 fear comments regarding topic 3.\n",
      "\n",
      "There are 161 joy comments regarding topic 4.\n",
      "There are 174 sadness comments regarding topic 4.\n",
      "There are 219 anger comments regarding topic 4.\n",
      "There are 448 neutral comments regarding topic 4.\n",
      "There are 305 fear comments regarding topic 4.\n",
      "\n",
      "There are 143 joy comments regarding topic 5.\n",
      "There are 162 sadness comments regarding topic 5.\n",
      "There are 213 anger comments regarding topic 5.\n",
      "There are 466 neutral comments regarding topic 5.\n",
      "There are 238 fear comments regarding topic 5.\n"
     ]
    }
   ],
   "source": [
    "get_num_comments_by_emotions_by_topic(topics_df=df_emot, topic=3, emotion='joy')\n",
    "get_num_comments_by_emotions_by_topic(topics_df=df_emot, topic=3, emotion='sadness')\n",
    "get_num_comments_by_emotions_by_topic(topics_df=df_emot, topic=3, emotion='anger')\n",
    "get_num_comments_by_emotions_by_topic(topics_df=df_emot, topic=3, emotion='neutral')\n",
    "get_num_comments_by_emotions_by_topic(topics_df=df_emot, topic=3, emotion='fear')\n",
    "print()\n",
    "get_num_comments_by_emotions_by_topic(topics_df=df_emot, topic=4, emotion='joy')\n",
    "get_num_comments_by_emotions_by_topic(topics_df=df_emot, topic=4, emotion='sadness')\n",
    "get_num_comments_by_emotions_by_topic(topics_df=df_emot, topic=4, emotion='anger')\n",
    "get_num_comments_by_emotions_by_topic(topics_df=df_emot, topic=4, emotion='neutral')\n",
    "get_num_comments_by_emotions_by_topic(topics_df=df_emot, topic=4, emotion='fear')\n",
    "print()\n",
    "get_num_comments_by_emotions_by_topic(topics_df=df_emot, topic=5, emotion='joy')\n",
    "get_num_comments_by_emotions_by_topic(topics_df=df_emot, topic=5, emotion='sadness')\n",
    "get_num_comments_by_emotions_by_topic(topics_df=df_emot, topic=5, emotion='anger')\n",
    "get_num_comments_by_emotions_by_topic(topics_df=df_emot, topic=5, emotion='neutral')\n",
    "get_num_comments_by_emotions_by_topic(topics_df=df_emot, topic=5, emotion='fear')"
   ]
  }
 ],
 "metadata": {
  "interpreter": {
   "hash": "1ca8176073e6bf12d9077ff009002fad0cb1dacc4343174635581a517ba1b213"
  },
  "kernelspec": {
   "display_name": "Python 3.10.1 64-bit",
   "language": "python",
   "name": "python3"
  },
  "language_info": {
   "codemirror_mode": {
    "name": "ipython",
    "version": 3
   },
   "file_extension": ".py",
   "mimetype": "text/x-python",
   "name": "python",
   "nbconvert_exporter": "python",
   "pygments_lexer": "ipython3",
   "version": "3.7.3"
  },
  "orig_nbformat": 4
 },
 "nbformat": 4,
 "nbformat_minor": 2
}
